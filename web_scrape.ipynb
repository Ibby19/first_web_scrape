{
 "cells": [
  {
   "cell_type": "markdown",
   "metadata": {},
   "source": [
    "## Overview\n",
    "\n",
    "### I used requests, beatiful soup, and gensim summarization to web scrape then summarize a techcrunch article. I will update this code by adding automation to it and maybe at some point I will add functionality so I recieve emails with summaries of articles that interest me."
   ]
  },
  {
   "cell_type": "code",
   "execution_count": 1,
   "metadata": {},
   "outputs": [],
   "source": [
    "# imports\n",
    "import requests\n",
    "from bs4 import BeautifulSoup\n",
    "from gensim.summarization import summarize"
   ]
  },
  {
   "cell_type": "code",
   "execution_count": 3,
   "metadata": {},
   "outputs": [],
   "source": [
    "# retrive url\n",
    "url = 'https://techcrunch.com/2019/07/15/amperity-series-c/'\n",
    "\n",
    "page = requests.get(url).text"
   ]
  },
  {
   "cell_type": "code",
   "execution_count": 4,
   "metadata": {},
   "outputs": [],
   "source": [
    "# Turn page into BeautifulSoup object to access HTML tags\n",
    "soup = BeautifulSoup(page)"
   ]
  },
  {
   "cell_type": "code",
   "execution_count": 6,
   "metadata": {},
   "outputs": [],
   "source": [
    "# Get headline\n",
    "headline = soup.find('h1').get_text()"
   ]
  },
  {
   "cell_type": "code",
   "execution_count": 8,
   "metadata": {},
   "outputs": [],
   "source": [
    "# Get text from all <p> tags.\n",
    "p_tags = soup.find_all('p')\n",
    "\n",
    "# Get the text from each of the 'p' tags and strip surrounding whitespace\n",
    "p_tags_text = [tag.get_text().strip() for tag in p_tags]"
   ]
  },
  {
   "cell_type": "code",
   "execution_count": 9,
   "metadata": {},
   "outputs": [],
   "source": [
    "# Filter out sentences that contain newline characters '\\n' or don't contain periods.\n",
    "sentence_list = [sentence for sentence in p_tags_text if not '\\n' in sentence]\n",
    "sentence_list = [sentence for sentence in sentence_list if '.' in sentence]\n",
    "# Combine list items into string.\n",
    "article = ' '.join(sentence_list)"
   ]
  },
  {
   "cell_type": "code",
   "execution_count": 11,
   "metadata": {},
   "outputs": [],
   "source": [
    "# Create a summary of the article\n",
    "summary = summarize(article, ratio = 0.3)"
   ]
  },
  {
   "cell_type": "code",
   "execution_count": 18,
   "metadata": {},
   "outputs": [
    {
     "name": "stdout",
     "output_type": "stream",
     "text": [
      "Customer data management company Amperity raises $50M\n",
      "\n",
      "The company offers what co-founder and CEO Kabir Shahani said is the ability to “ingest every piece of atomic-level data remotely related to a customer and assemble it into a customer 360.” To illustrate how Amperity can help businesses use their customer data more intelligently, Shahani (pictured above with his co-founder and CTO Derek Slager) said a company with a branded credit card could start sending targeted offers based on customer activity, while a retailer could start sending promotions targeted at online-only customers to bring them into physical stores.\n",
      "Shahani said that when they sign up with Amperity, most of these businesses are already trying to use customer data to improve their messaging, but they aren’t able to do so in “a real-time, in-the-moment, frequent way,” and they aren’t effectively merging data from different channels into a single profile.\n",
      "He also argued that while Salesforce and Adobe have announced plans to move into this market, it was “kind of an intention announcement”: “There aren’t any real customers behind it, there aren’t any real use cases deployed.” As the large marketing clouds build up their offerings, Shahani suggested that Amperity will still have the advantage of a “network effect,” with businesses recommending the company’s platform to each other, and will also benefit from an interest in standalone, “best-in-class” products.\n"
     ]
    }
   ],
   "source": [
    "# print the summary of the headline and summary of the article\n",
    "print(headline)\n",
    "print(\"\")\n",
    "print(summary)"
   ]
  }
 ],
 "metadata": {
  "kernelspec": {
   "display_name": "Python 3",
   "language": "python",
   "name": "python3"
  },
  "language_info": {
   "codemirror_mode": {
    "name": "ipython",
    "version": 3
   },
   "file_extension": ".py",
   "mimetype": "text/x-python",
   "name": "python",
   "nbconvert_exporter": "python",
   "pygments_lexer": "ipython3",
   "version": "3.7.3"
  }
 },
 "nbformat": 4,
 "nbformat_minor": 2
}
